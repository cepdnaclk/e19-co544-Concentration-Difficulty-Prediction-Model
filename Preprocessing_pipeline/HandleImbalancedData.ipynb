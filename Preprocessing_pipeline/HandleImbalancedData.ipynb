{
 "cells": [
  {
   "cell_type": "markdown",
   "metadata": {},
   "source": [
    "## SMOTE\n"
   ]
  },
  {
   "cell_type": "code",
   "execution_count": 1,
   "metadata": {},
   "outputs": [],
   "source": [
    "import pandas as pd\n"
   ]
  },
  {
   "cell_type": "code",
   "execution_count": 2,
   "metadata": {},
   "outputs": [],
   "source": [
    "# Read the CSV files\n",
    "train_data = pd.read_csv('final_data_sets/train_set.csv')"
   ]
  },
  {
   "cell_type": "code",
   "execution_count": 3,
   "metadata": {},
   "outputs": [
    {
     "data": {
      "text/plain": [
       "Age                    384\n",
       "Sex                    384\n",
       "Relationship Status    384\n",
       "Occupation             384\n",
       "Social Media User?     384\n",
       "Time Spent             384\n",
       "Q1                     384\n",
       "Q2                     384\n",
       "Q3                     384\n",
       "Q4                     384\n",
       "Q5                     384\n",
       "Q6                     384\n",
       "Q7                     384\n",
       "Q8                     384\n",
       "Difficulty_level       384\n",
       "Facebook               384\n",
       "Instagram              384\n",
       "YouTube                384\n",
       "Snapchat               384\n",
       "Twitter                384\n",
       "Discord                384\n",
       "Reddit                 384\n",
       "Pinterest              384\n",
       "TikTok                 384\n",
       "dtype: int64"
      ]
     },
     "execution_count": 3,
     "metadata": {},
     "output_type": "execute_result"
    }
   ],
   "source": [
    "train_data.count()"
   ]
  },
  {
   "cell_type": "code",
   "execution_count": 4,
   "metadata": {},
   "outputs": [],
   "source": [
    "# # Split dataset into features and target\n",
    "X_train = train_data.drop(['Difficulty_level'], axis=1)\n",
    "y_train = train_data['Difficulty_level']"
   ]
  },
  {
   "cell_type": "code",
   "execution_count": 5,
   "metadata": {},
   "outputs": [
    {
     "name": "stdout",
     "output_type": "stream",
     "text": [
      "Class distribution before balancing:\n",
      "Difficulty_level\n",
      "1    225\n",
      "0    104\n",
      "2     55\n",
      "Name: count, dtype: int64\n"
     ]
    }
   ],
   "source": [
    "balanced_class_distribution = y_train.value_counts()\n",
    "print(\"Class distribution before balancing:\")\n",
    "print(balanced_class_distribution)"
   ]
  },
  {
   "cell_type": "code",
   "execution_count": 6,
   "metadata": {},
   "outputs": [],
   "source": [
    "from imblearn.over_sampling import SMOTE\n",
    "\n",
    "# Apply SMOTE to the training data\n",
    "smote1 = SMOTE(random_state=42)\n",
    "X_train_resampled, y_train_resampled = smote1.fit_resample(X_train, y_train)"
   ]
  },
  {
   "cell_type": "code",
   "execution_count": 7,
   "metadata": {},
   "outputs": [
    {
     "name": "stdout",
     "output_type": "stream",
     "text": [
      "Class distribution after balancing:\n",
      "Difficulty_level\n",
      "0    225\n",
      "1    225\n",
      "2    225\n",
      "Name: count, dtype: int64\n"
     ]
    }
   ],
   "source": [
    "balanced_class_distribution = y_train_resampled.value_counts()\n",
    "print(\"Class distribution after balancing:\")\n",
    "print(balanced_class_distribution)"
   ]
  },
  {
   "cell_type": "code",
   "execution_count": 8,
   "metadata": {},
   "outputs": [],
   "source": [
    "# Combine X and y into one DataFrame\n",
    "train_data_smote1 = pd.concat([X_train_resampled, y_train_resampled], axis=1)\n",
    "\n",
    "# Save the combined DataFrame to a CSV file\n",
    "# csv_file_path = 'final_data_sets/train_set_smote.csv'\n",
    "# train_data_smote1.to_csv(csv_file_path, index=False)"
   ]
  }
 ],
 "metadata": {
  "kernelspec": {
   "display_name": "Python 3",
   "language": "python",
   "name": "python3"
  },
  "language_info": {
   "codemirror_mode": {
    "name": "ipython",
    "version": 3
   },
   "file_extension": ".py",
   "mimetype": "text/x-python",
   "name": "python",
   "nbconvert_exporter": "python",
   "pygments_lexer": "ipython3",
   "version": "3.12.3"
  }
 },
 "nbformat": 4,
 "nbformat_minor": 2
}
